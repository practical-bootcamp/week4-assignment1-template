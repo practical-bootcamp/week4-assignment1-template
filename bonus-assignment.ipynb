{
 "cells": [
  {
   "attachments": {},
   "cell_type": "markdown",
   "metadata": {},
   "source": [
    "# Bonus Assignment\n",
    "In this bonus assignment, you'll continue to use Pandas but with a specific scenario. You'll have to load a CSV dataset, explore it, and then clean it up to perform some visualizations and analysis. You'll also have to use the `matplotlib` library to create some visualizations.\n",
    "\n",
    "The CSV is located at `https://raw.githubusercontent.com/paiml/wine-ratings/main/wine-ratings.csv`. Pandas has a seamless way to load CSVs from URLs, so you can use that to load the CSV. The example loading is provided for you in the first cell.\n"
   ]
  },
  {
   "cell_type": "code",
   "execution_count": null,
   "metadata": {},
   "outputs": [],
   "source": [
    "import pandas as pd \n",
    "\n",
    "csv_url = \"https://raw.githubusercontent.com/paiml/wine-ratings/main/wine-ratings.csv\"\n",
    "df = pd.read_csv(csv_url)"
   ]
  },
  {
   "attachments": {},
   "cell_type": "markdown",
   "metadata": {},
   "source": [
    "## Explore the dataset\n",
    "Explore the rows and columns of this wine dataset that has information about wines from all around the world with their ratings, regions, and variety. Spot any columns and rows that have invalid or missing values. \n",
    "\n",
    "Hint: There is one column with completely invalid data. Remove it from the dataset."
   ]
  },
  {
   "cell_type": "code",
   "execution_count": null,
   "metadata": {},
   "outputs": [],
   "source": [
    "# Remove invalid columns"
   ]
  },
  {
   "attachments": {},
   "cell_type": "markdown",
   "metadata": {},
   "source": [
    "## Transform columns\n",
    "Assume that \"good wine\" is anything about 94 points and above. Create a new column called `is_good_wine` that has a boolean value of `True` if the wine is good and `False` if it is not."
   ]
  },
  {
   "cell_type": "code",
   "execution_count": null,
   "metadata": {},
   "outputs": [],
   "source": [
    "# Add column for is_good_wine"
   ]
  },
  {
   "attachments": {},
   "cell_type": "markdown",
   "metadata": {},
   "source": [
    "## Create a visualization\n",
    "Use the newly created columns to identify good vs. bad wines and create a visualization that shows the distribution of good vs. bad wines."
   ]
  },
  {
   "cell_type": "code",
   "execution_count": null,
   "metadata": {},
   "outputs": [],
   "source": [
    "# Create visualization"
   ]
  },
  {
   "attachments": {},
   "cell_type": "markdown",
   "metadata": {},
   "source": [
    "## Transform variety column\n",
    "The variety column has different types of wine including red, white, and sparkling. Reduce the dataset to include only red and white wines, and add two new columns: one for `is_red` and one for `is_white`. The `is_red` column should have a boolean value of `True` if the wine is red and `False` if it is not. The `is_white` column should have a boolean value of `True` if the wine is white and `False` if it is not. \n",
    "\n",
    "Finally, drop the `variety` column."
   ]
  },
  {
   "cell_type": "code",
   "execution_count": null,
   "metadata": {},
   "outputs": [],
   "source": [
    "# Create new columns for variety and drop variety column"
   ]
  }
 ],
 "metadata": {
  "language_info": {
   "name": "python"
  },
  "orig_nbformat": 4
 },
 "nbformat": 4,
 "nbformat_minor": 2
}
